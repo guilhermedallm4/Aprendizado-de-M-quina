{
  "nbformat": 4,
  "nbformat_minor": 0,
  "metadata": {
    "colab": {
      "provenance": []
    },
    "kernelspec": {
      "name": "python3",
      "display_name": "Python 3"
    },
    "language_info": {
      "name": "python"
    }
  },
  "cells": [
    {
      "cell_type": "code",
      "execution_count": null,
      "metadata": {
        "id": "38w_3yRFFkni"
      },
      "outputs": [],
      "source": [
        "import pandas as pd"
      ]
    },
    {
      "cell_type": "code",
      "source": [
        "df = pd.read_csv(\"fruit_test.csv\", delimiter=';')\n",
        "\n",
        "\n",
        "df.head()\n",
        "\n",
        "X = df.drop(\"fruit_name\", axis=1)\n",
        "\n",
        "y = df[\"fruit_name\"]\n",
        "\n",
        "print(X.head())\n",
        "print(y.head())"
      ],
      "metadata": {
        "colab": {
          "base_uri": "https://localhost:8080/"
        },
        "id": "KCBzKjpgF5Sk",
        "outputId": "27985ff9-9448-414b-ec81-7c741452c6e8"
      },
      "execution_count": null,
      "outputs": [
        {
          "output_type": "stream",
          "name": "stdout",
          "text": [
            "   mass  width  height  color_score\n",
            "0   176    7.4     7.2         0.60\n",
            "1    76    5.8     4.0         0.81\n",
            "2   166    6.9     7.3         0.93\n",
            "3   168    7.5     7.6         0.73\n",
            "4   170    7.6     7.9         0.88\n",
            "0       apple\n",
            "1    mandarin\n",
            "2       apple\n",
            "3       apple\n",
            "4       apple\n",
            "Name: fruit_name, dtype: object\n"
          ]
        }
      ]
    },
    {
      "cell_type": "code",
      "source": [
        "predict = []\n",
        "\n",
        "for i in range(len(y)):\n",
        "    width = X.iloc[i][\"width\"]\n",
        "    color_score = X.iloc[i][\"color_score\"]\n",
        "    height = X.iloc[i][\"height\"]\n",
        "    mass = X.iloc[i][\"mass\"]\n",
        "\n",
        "    if width > 6.7:\n",
        "        if color_score <= 0.69 or color_score >= 0.83:\n",
        "            predict.append(\"apple\")\n",
        "        else:\n",
        "            predict.append(\"orange\")\n",
        "    else:\n",
        "        if height < 5:\n",
        "            predict.append(\"mandarin\")\n",
        "        elif 116 <= mass <= 120:\n",
        "            predict.append(\"lemon\")\n",
        "        else:\n",
        "            predict.append(\"orange\")\n",
        "\n",
        "predict_df = pd.DataFrame(predict, columns=[\"predicted_fruit\"])"
      ],
      "metadata": {
        "id": "8CMg28wAGRRi"
      },
      "execution_count": null,
      "outputs": []
    },
    {
      "cell_type": "code",
      "source": [
        "predicted_fruits = predict_df[\"predicted_fruit\"]\n",
        "\n",
        "accuracy = (y.values == predicted_fruits.values).mean()\n",
        "print(f\"Acurácia: {accuracy:.2%}\")"
      ],
      "metadata": {
        "colab": {
          "base_uri": "https://localhost:8080/"
        },
        "id": "Aqq7BYSbH47i",
        "outputId": "0167d04c-f353-4d27-b64e-da7d260294e8"
      },
      "execution_count": null,
      "outputs": [
        {
          "output_type": "stream",
          "name": "stdout",
          "text": [
            "Acurácia: 63.64%\n"
          ]
        }
      ]
    }
  ]
}