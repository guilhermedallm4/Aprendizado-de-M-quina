{
  "nbformat": 4,
  "nbformat_minor": 0,
  "metadata": {
    "colab": {
      "provenance": []
    },
    "kernelspec": {
      "name": "python3",
      "display_name": "Python 3"
    },
    "language_info": {
      "name": "python"
    }
  },
  "cells": [
    {
      "cell_type": "markdown",
      "source": [
        "#1118004 - 01 - APRENDIZADO DE MÁQUINA - Implementação do ID3\n",
        "\n",
        "##Professor: Ulisses Brisolara Corrêa\n",
        "\n",
        "##Autor: Guilherme Lima"
      ],
      "metadata": {
        "id": "tOgJ67ysj4dU"
      }
    },
    {
      "cell_type": "code",
      "source": [
        "import pandas as pd\n",
        "import numpy as np\n",
        "\n",
        "import math\n",
        "\n",
        "from matplotlib import pyplot as plt\n",
        "import seaborn as sns\n",
        "\n",
        "import random\n",
        "from pprint import pprint\n",
        "\n",
        "from collections import Counter\n",
        "import numpy as np\n",
        "\n",
        "from sklearn.model_selection import train_test_split\n",
        "from sklearn.metrics import f1_score\n"
      ],
      "metadata": {
        "id": "ZibICJxV8isL"
      },
      "execution_count": null,
      "outputs": []
    },
    {
      "cell_type": "code",
      "source": [
        "%matplotlib inline"
      ],
      "metadata": {
        "id": "nCDAIUpccwGl"
      },
      "execution_count": null,
      "outputs": []
    },
    {
      "cell_type": "code",
      "source": [
        "import csv"
      ],
      "metadata": {
        "id": "5jeRBAhgiOp0"
      },
      "execution_count": null,
      "outputs": []
    },
    {
      "cell_type": "code",
      "source": [
        "class Node:\n",
        "    def __init__(self, feature=None, value=None, results=None, true_branch=None, false_branch=None):\n",
        "        self.feature = feature\n",
        "        self.value = value\n",
        "        self.results = results\n",
        "        self.true_branch = true_branch\n",
        "        self.false_branch = false_branch"
      ],
      "metadata": {
        "id": "XMEdBEK-cHxj"
      },
      "execution_count": null,
      "outputs": []
    },
    {
      "cell_type": "code",
      "source": [
        "def entropy(data):\n",
        "    counts = np.bincount(data)\n",
        "    probabilities = counts / len(data)\n",
        "    entropy = -np.sum([p * np.log2(p) for p in probabilities if p > 0])\n",
        "    return entropy"
      ],
      "metadata": {
        "id": "O9opKv81g051"
      },
      "execution_count": null,
      "outputs": []
    },
    {
      "cell_type": "code",
      "source": [
        "def split_data(X, y, feature, value):\n",
        "    true_indices = np.where(X[:, feature] <= value)[0]\n",
        "    false_indices = np.where(X[:, feature] > value)[0]\n",
        "    true_X, true_y = X[true_indices], y[true_indices]\n",
        "    false_X, false_y = X[false_indices], y[false_indices]\n",
        "    return true_X, true_y, false_X, false_y"
      ],
      "metadata": {
        "id": "9u9gQ1K3hRCO"
      },
      "execution_count": null,
      "outputs": []
    },
    {
      "cell_type": "code",
      "source": [
        "def build_tree(X, y):\n",
        "    if len(set(y)) == 1:\n",
        "        return Node(results=y[0])\n",
        "\n",
        "    best_gain = 0\n",
        "    best_criteria = None\n",
        "    best_sets = None\n",
        "    n_features = X.shape[1]\n",
        "\n",
        "    current_entropy = entropy(y)\n",
        "\n",
        "    for feature in range(n_features):\n",
        "        feature_values = set(X[:, feature])\n",
        "        for value in feature_values:\n",
        "            true_X, true_y, false_X, false_y = split_data(X, y, feature, value)\n",
        "            true_entropy = entropy(true_y)\n",
        "            false_entropy = entropy(false_y)\n",
        "            p = len(true_y) / len(y)\n",
        "            gain = current_entropy - p * true_entropy - (1 - p) * false_entropy\n",
        "\n",
        "            if gain > best_gain:\n",
        "                best_gain = gain\n",
        "                best_criteria = (feature, value)\n",
        "                best_sets = (true_X, true_y, false_X, false_y)\n",
        "\n",
        "    if best_gain > 0:\n",
        "        true_branch = build_tree(best_sets[0], best_sets[1])\n",
        "        false_branch = build_tree(best_sets[2], best_sets[3])\n",
        "        return Node(feature=best_criteria[0], value=best_criteria[1], true_branch=true_branch, false_branch=false_branch)\n",
        "\n",
        "    return Node(results=y[0])"
      ],
      "metadata": {
        "id": "cpCjkZ3pheVl"
      },
      "execution_count": null,
      "outputs": []
    },
    {
      "cell_type": "code",
      "source": [
        "def predict(tree, sample):\n",
        "    if tree.results is not None:\n",
        "        return tree.results\n",
        "    else:\n",
        "        branch = tree.false_branch\n",
        "        feature_value = sample[tree.feature[0]] if isinstance(tree.feature, (list, np.ndarray)) else sample[tree.feature]\n",
        "        if (feature_value <= tree.value).any():\n",
        "            branch = tree.true_branch\n",
        "        return predict(branch, sample)"
      ],
      "metadata": {
        "id": "21wqpNPdhoF1"
      },
      "execution_count": null,
      "outputs": []
    },
    {
      "cell_type": "code",
      "source": [
        "def importDataSet(file_path, delimiter, test_size):\n",
        "    df = pd.read_csv(file_path, delimiter=delimiter)\n",
        "\n",
        "    if 'Number of Doctors Visited' not in df.columns:\n",
        "        print(\"Erro: 'Number of Doctors Visited' não encontrado nas colunas\")\n",
        "        print(\"Colunas disponíveis:\", df.columns)\n",
        "        return None, None\n",
        "    train_df, test_df = train_test_split(df, test_size=test_size)\n",
        "    return train_df, test_df"
      ],
      "metadata": {
        "id": "qg7t3ibx0dJ_"
      },
      "execution_count": null,
      "outputs": []
    },
    {
      "cell_type": "code",
      "source": [
        "predction_three = []\n",
        "def main():\n",
        "    train_df, test_df = importDataSet('NPHA-doctor-visits.csv', ',', 0.2)\n",
        "\n",
        "    if train_df is None and test_df is None:\n",
        "        print(\"Erro ao carregar o dataset.\")\n",
        "        return\n",
        "\n",
        "    if 'Number of Doctors Visited' not in train_df.columns:\n",
        "        print(\"Coluna 'Number of Doctors Visited' não encontrada.\")\n",
        "        return\n",
        "\n",
        "    X_train = train_df.drop('Number of Doctors Visited', axis=1)\n",
        "    y_train = train_df['Number of Doctors Visited'].values\n",
        "    X_test = test_df.drop('Number of Doctors Visited', axis=1)\n",
        "    y_test = test_df['Number of Doctors Visited'].values\n",
        "    X_train = X_train.to_numpy()\n",
        "    X_test = X_test.to_numpy()\n",
        "    decision_tree = build_tree(X_train, y_train)\n",
        "    for x in X_test:\n",
        "        predction_three.append(predict(decision_tree, x))\n",
        "\n",
        "    f1 = f1_score(y_test, predction_three, average='macro')\n",
        "    print(f'F1-Score: {f1:.2f}')"
      ],
      "metadata": {
        "id": "3Tn_cA330iZ3"
      },
      "execution_count": null,
      "outputs": []
    },
    {
      "cell_type": "code",
      "source": [
        "main()"
      ],
      "metadata": {
        "colab": {
          "base_uri": "https://localhost:8080/"
        },
        "id": "DYUv0q1z04fu",
        "outputId": "8f7c5f82-52e0-4db2-d296-7c8b80ae3974"
      },
      "execution_count": null,
      "outputs": [
        {
          "output_type": "stream",
          "name": "stdout",
          "text": [
            "F1-Score: 0.31\n"
          ]
        }
      ]
    },
    {
      "cell_type": "code",
      "source": [
        "df = pd.read_csv('NPHA-doctor-visits.csv', delimiter=',')"
      ],
      "metadata": {
        "id": "7odcD-eFhlBy"
      },
      "execution_count": null,
      "outputs": []
    },
    {
      "cell_type": "code",
      "source": [
        "df.groupby('Number of Doctors Visited').size()"
      ],
      "metadata": {
        "colab": {
          "base_uri": "https://localhost:8080/",
          "height": 210
        },
        "id": "T9EvIFLghqUh",
        "outputId": "d6c52d05-a993-47e7-99d5-0c667ebc1766"
      },
      "execution_count": null,
      "outputs": [
        {
          "output_type": "execute_result",
          "data": {
            "text/plain": [
              "Number of Doctors Visited\n",
              "1    131\n",
              "2    372\n",
              "3    211\n",
              "dtype: int64"
            ],
            "text/html": [
              "<div>\n",
              "<style scoped>\n",
              "    .dataframe tbody tr th:only-of-type {\n",
              "        vertical-align: middle;\n",
              "    }\n",
              "\n",
              "    .dataframe tbody tr th {\n",
              "        vertical-align: top;\n",
              "    }\n",
              "\n",
              "    .dataframe thead th {\n",
              "        text-align: right;\n",
              "    }\n",
              "</style>\n",
              "<table border=\"1\" class=\"dataframe\">\n",
              "  <thead>\n",
              "    <tr style=\"text-align: right;\">\n",
              "      <th></th>\n",
              "      <th>0</th>\n",
              "    </tr>\n",
              "    <tr>\n",
              "      <th>Number of Doctors Visited</th>\n",
              "      <th></th>\n",
              "    </tr>\n",
              "  </thead>\n",
              "  <tbody>\n",
              "    <tr>\n",
              "      <th>1</th>\n",
              "      <td>131</td>\n",
              "    </tr>\n",
              "    <tr>\n",
              "      <th>2</th>\n",
              "      <td>372</td>\n",
              "    </tr>\n",
              "    <tr>\n",
              "      <th>3</th>\n",
              "      <td>211</td>\n",
              "    </tr>\n",
              "  </tbody>\n",
              "</table>\n",
              "</div><br><label><b>dtype:</b> int64</label>"
            ]
          },
          "metadata": {},
          "execution_count": 129
        }
      ]
    },
    {
      "cell_type": "code",
      "source": [
        "class_counts = np.array([131, 372, 211])\n",
        "class_labels = ['Classe 1', 'Classe 2', 'Classe 3']\n",
        "\n",
        "plt.figure(figsize=(8, 6))\n",
        "sns.barplot(x=class_labels, y=class_counts, palette='Purples')\n",
        "plt.title('Distribuição das Classes no Conjunto de Dados')\n",
        "plt.ylabel('Número de Instâncias')\n",
        "plt.xlabel('Classes')\n",
        "plt.show()"
      ],
      "metadata": {
        "colab": {
          "base_uri": "https://localhost:8080/",
          "height": 651
        },
        "id": "uCJzmUrGiumZ",
        "outputId": "bd31030d-f3a3-40c6-d842-8cceb2de2680"
      },
      "execution_count": null,
      "outputs": [
        {
          "output_type": "stream",
          "name": "stderr",
          "text": [
            "<ipython-input-133-045cbfb05573>:5: FutureWarning: \n",
            "\n",
            "Passing `palette` without assigning `hue` is deprecated and will be removed in v0.14.0. Assign the `x` variable to `hue` and set `legend=False` for the same effect.\n",
            "\n",
            "  sns.barplot(x=class_labels, y=class_counts, palette='Purples')\n"
          ]
        },
        {
          "output_type": "display_data",
          "data": {
            "text/plain": [
              "<Figure size 800x600 with 1 Axes>"
            ],
            "image/png": "[encoded data removed]"
          },
          "metadata": {}
        }
      ]
    }
  ]
}