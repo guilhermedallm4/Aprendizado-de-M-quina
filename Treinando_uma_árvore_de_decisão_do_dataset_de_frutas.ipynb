{
  "nbformat": 4,
  "nbformat_minor": 0,
  "metadata": {
    "colab": {
      "provenance": [],
      "collapsed_sections": [
        "BjXgSc9eAjpP",
        "vet_IcAtAl93",
        "awuRAAhlCKze",
        "R1A3o1GWCMlH",
        "Ep5DbMtpCPU2",
        "6SYMkfbrCRU3",
        "lzrBTPmBCU3v"
      ]
    },
    "kernelspec": {
      "name": "python3",
      "display_name": "Python 3"
    },
    "language_info": {
      "name": "python"
    }
  },
  "cells": [
    {
      "cell_type": "markdown",
      "source": [
        "##Bibliotecas"
      ],
      "metadata": {
        "id": "BjXgSc9eAjpP"
      }
    },
    {
      "cell_type": "code",
      "source": [
        "!apt-get install graphviz\n",
        "!pip install graphviz"
      ],
      "metadata": {
        "colab": {
          "base_uri": "https://localhost:8080/"
        },
        "id": "Gv2QIADPAD5Z",
        "outputId": "ff44bee8-bbad-4183-9b7a-3dedecb30517"
      },
      "execution_count": null,
      "outputs": [
        {
          "output_type": "stream",
          "name": "stdout",
          "text": [
            "Reading package lists... Done\n",
            "Building dependency tree... Done\n",
            "Reading state information... Done\n",
            "graphviz is already the newest version (2.42.2-6ubuntu0.1).\n",
            "0 upgraded, 0 newly installed, 0 to remove and 49 not upgraded.\n",
            "Requirement already satisfied: graphviz in /usr/local/lib/python3.10/dist-packages (0.20.3)\n"
          ]
        }
      ]
    },
    {
      "cell_type": "code",
      "execution_count": null,
      "metadata": {
        "id": "bsh4hAwP_wk6"
      },
      "outputs": [],
      "source": [
        "import pandas as pd\n",
        "from sklearn.model_selection import train_test_split, KFold, cross_val_score\n",
        "from sklearn.tree import DecisionTreeClassifier\n",
        "from sklearn.metrics import f1_score\n",
        "import matplotlib.pyplot as plt\n",
        "from sklearn.tree import export_graphviz\n",
        "import graphviz"
      ]
    },
    {
      "cell_type": "markdown",
      "source": [
        "#Carrendo o conjunto de dados Frutas"
      ],
      "metadata": {
        "id": "vet_IcAtAl93"
      }
    },
    {
      "cell_type": "code",
      "source": [
        "data = pd.read_csv('fruit_test.csv', delimiter=';')\n",
        "\n",
        "print(data.head())\n",
        "X = data[['mass', 'width', 'height', 'color_score']]\n",
        "y = data['fruit_name']\n",
        "\n",
        "print(X.head())\n",
        "\n",
        "print(y.head())"
      ],
      "metadata": {
        "colab": {
          "base_uri": "https://localhost:8080/"
        },
        "id": "yRoQW2tJ_093",
        "outputId": "f97c8435-305d-4a83-dceb-245260cf0ec4"
      },
      "execution_count": null,
      "outputs": [
        {
          "output_type": "stream",
          "name": "stdout",
          "text": [
            "   mass  width  height  color_score fruit_name\n",
            "0   176    7.4     7.2         0.60      apple\n",
            "1    76    5.8     4.0         0.81   mandarin\n",
            "2   166    6.9     7.3         0.93      apple\n",
            "3   168    7.5     7.6         0.73      apple\n",
            "4   170    7.6     7.9         0.88      apple\n",
            "   mass  width  height  color_score\n",
            "0   176    7.4     7.2         0.60\n",
            "1    76    5.8     4.0         0.81\n",
            "2   166    6.9     7.3         0.93\n",
            "3   168    7.5     7.6         0.73\n",
            "4   170    7.6     7.9         0.88\n",
            "0       apple\n",
            "1    mandarin\n",
            "2       apple\n",
            "3       apple\n",
            "4       apple\n",
            "Name: fruit_name, dtype: object\n"
          ]
        }
      ]
    },
    {
      "cell_type": "markdown",
      "source": [
        "#Pré-Processamento"
      ],
      "metadata": {
        "id": "awuRAAhlCKze"
      }
    },
    {
      "cell_type": "code",
      "source": [
        "X_train, X_test, y_train, y_test = train_test_split(X, y, test_size=0.2, random_state=42)"
      ],
      "metadata": {
        "id": "xTJUCRVB_39T"
      },
      "execution_count": null,
      "outputs": []
    },
    {
      "cell_type": "markdown",
      "source": [
        "#Concepção do Modelo"
      ],
      "metadata": {
        "id": "R1A3o1GWCMlH"
      }
    },
    {
      "cell_type": "code",
      "source": [
        "model = DecisionTreeClassifier()\n",
        "\n",
        "model.fit(X_train, y_train)\n",
        "\n",
        "y_pred = model.predict(X_test)"
      ],
      "metadata": {
        "id": "SOAgdhig_5ep"
      },
      "execution_count": null,
      "outputs": []
    },
    {
      "cell_type": "markdown",
      "source": [
        "#Avaliação do Modelo"
      ],
      "metadata": {
        "id": "Ep5DbMtpCPU2"
      }
    },
    {
      "cell_type": "code",
      "source": [
        "f1 = f1_score(y_test, y_pred, average='weighted')\n",
        "print(f'F1-Score: {f1:.2f}')"
      ],
      "metadata": {
        "colab": {
          "base_uri": "https://localhost:8080/"
        },
        "id": "vqjtVURQ_7Nf",
        "outputId": "03ab9d05-c479-4910-bec1-e6b5c36203cb"
      },
      "execution_count": null,
      "outputs": [
        {
          "output_type": "stream",
          "name": "stdout",
          "text": [
            "F1-Score: 0.56\n"
          ]
        }
      ]
    },
    {
      "cell_type": "markdown",
      "source": [
        "###R:\n",
        "#####O F1-Score de 0,56 indica que, em média, o modelo não está capturando bem a relação entre precisão e revocação. Embora o valor sugira um desempenho razoável, ele também indica que o modelo não é confiável."
      ],
      "metadata": {
        "id": "PRsQGzq0DVmt"
      }
    },
    {
      "cell_type": "markdown",
      "source": [
        "#Validação Cruzada"
      ],
      "metadata": {
        "id": "6SYMkfbrCRU3"
      }
    },
    {
      "cell_type": "code",
      "source": [
        "kf = KFold(n_splits=5, shuffle=True, random_state=42)\n",
        "cross_val_scores = cross_val_score(model, X, y, cv=kf)\n",
        "\n",
        "print(f'Acurácia média com K-Fold: {cross_val_scores.mean():.2f}')"
      ],
      "metadata": {
        "colab": {
          "base_uri": "https://localhost:8080/"
        },
        "id": "k5da5xBZ_8Jf",
        "outputId": "e6d5baad-ae6d-49a6-a4a3-044fdaf2c51d"
      },
      "execution_count": null,
      "outputs": [
        {
          "output_type": "stream",
          "name": "stdout",
          "text": [
            "Acurácia média com K-Fold: 0.20\n"
          ]
        }
      ]
    },
    {
      "cell_type": "markdown",
      "source": [
        "##R:\n",
        "\n",
        "#####Uma acurácia média de 0.20 significa que o modelo está acertando apenas 20% das previsões, o que é inferior ao que seria esperado em um cenário aleatório para um problema de classificação binária."
      ],
      "metadata": {
        "id": "lAzsM5xBDW3X"
      }
    },
    {
      "cell_type": "markdown",
      "source": [
        "#Apresentação da Árvore Gerada"
      ],
      "metadata": {
        "id": "lzrBTPmBCU3v"
      }
    },
    {
      "cell_type": "code",
      "source": [
        "dot_data = export_graphviz(model, out_file=None,\n",
        "                           feature_names=['mass', 'width', 'height', 'color_score'],\n",
        "                           class_names=model.classes_,\n",
        "                           filled=True, rounded=True, special_characters=True)\n",
        "\n",
        "\n",
        "graph = graphviz.Source(dot_data)\n",
        "graph"
      ],
      "metadata": {
        "colab": {
          "base_uri": "https://localhost:8080/",
          "height": 599
        },
        "id": "pokRwzrqAMXg",
        "outputId": "dbcf7f46-0461-4b9f-a93c-73e73efcceb5"
      },
      "execution_count": null,
      "outputs": [
        {
          "output_type": "execute_result",
          "data": {
            "image/svg+xml": "<?xml version=\"1.0\" encoding=\"UTF-8\" standalone=\"no\"?>\n<!DOCTYPE svg PUBLIC \"-//W3C//DTD SVG 1.1//EN\"\n \"http://www.w3.org/Graphics/SVG/1.1/DTD/svg11.dtd\">\n<!-- Generated by graphviz version 2.43.0 (0)\n -->\n<!-- Title: Tree Pages: 1 -->\n<svg width=\"418pt\" height=\"433pt\"\n viewBox=\"0.00 0.00 418.00 433.00\" xmlns=\"http://www.w3.org/2000/svg\" xmlns:xlink=\"http://www.w3.org/1999/xlink\">\n<g id=\"graph0\" class=\"graph\" transform=\"scale(1 1) rotate(0) translate(4 429)\">\n<title>Tree</title>\n<polygon fill=\"white\" stroke=\"transparent\" points=\"-4,4 -4,-429 414,-429 414,4 -4,4\"/>\n<!-- 0 -->\n<g id=\"node1\" class=\"node\">\n<title>0</title>\n<path fill=\"#fbeade\" stroke=\"black\" d=\"M326,-425C326,-425 225,-425 225,-425 219,-425 213,-419 213,-413 213,-413 213,-354 213,-354 213,-348 219,-342 225,-342 225,-342 326,-342 326,-342 332,-342 338,-348 338,-354 338,-354 338,-413 338,-413 338,-419 332,-425 326,-425\"/>\n<text text-anchor=\"start\" x=\"236\" y=\"-409.8\" font-family=\"Helvetica,sans-Serif\" font-size=\"14.00\">height ≤ 8.05</text>\n<text text-anchor=\"start\" x=\"240\" y=\"-394.8\" font-family=\"Helvetica,sans-Serif\" font-size=\"14.00\">gini = 0.719</text>\n<text text-anchor=\"start\" x=\"238\" y=\"-379.8\" font-family=\"Helvetica,sans-Serif\" font-size=\"14.00\">samples = 8</text>\n<text text-anchor=\"start\" x=\"221\" y=\"-364.8\" font-family=\"Helvetica,sans-Serif\" font-size=\"14.00\">value = [3, 2, 1, 2]</text>\n<text text-anchor=\"start\" x=\"235.5\" y=\"-349.8\" font-family=\"Helvetica,sans-Serif\" font-size=\"14.00\">class = apple</text>\n</g>\n<!-- 1 -->\n<g id=\"node2\" class=\"node\">\n<title>1</title>\n<path fill=\"#f8e0ce\" stroke=\"black\" d=\"M255,-306C255,-306 154,-306 154,-306 148,-306 142,-300 142,-294 142,-294 142,-235 142,-235 142,-229 148,-223 154,-223 154,-223 255,-223 255,-223 261,-223 267,-229 267,-235 267,-235 267,-294 267,-294 267,-300 261,-306 255,-306\"/>\n<text text-anchor=\"start\" x=\"163.5\" y=\"-290.8\" font-family=\"Helvetica,sans-Serif\" font-size=\"14.00\">mass ≤ 165.0</text>\n<text text-anchor=\"start\" x=\"169\" y=\"-275.8\" font-family=\"Helvetica,sans-Serif\" font-size=\"14.00\">gini = 0.611</text>\n<text text-anchor=\"start\" x=\"167\" y=\"-260.8\" font-family=\"Helvetica,sans-Serif\" font-size=\"14.00\">samples = 6</text>\n<text text-anchor=\"start\" x=\"150\" y=\"-245.8\" font-family=\"Helvetica,sans-Serif\" font-size=\"14.00\">value = [3, 0, 1, 2]</text>\n<text text-anchor=\"start\" x=\"164.5\" y=\"-230.8\" font-family=\"Helvetica,sans-Serif\" font-size=\"14.00\">class = apple</text>\n</g>\n<!-- 0&#45;&gt;1 -->\n<g id=\"edge1\" class=\"edge\">\n<title>0&#45;&gt;1</title>\n<path fill=\"none\" stroke=\"black\" d=\"M250.87,-341.91C245.53,-333.1 239.82,-323.7 234.3,-314.61\"/>\n<polygon fill=\"black\" stroke=\"black\" points=\"237.27,-312.75 229.09,-306.02 231.29,-316.39 237.27,-312.75\"/>\n<text text-anchor=\"middle\" x=\"223.15\" y=\"-326.6\" font-family=\"Helvetica,sans-Serif\" font-size=\"14.00\">True</text>\n</g>\n<!-- 6 -->\n<g id=\"node7\" class=\"node\">\n<title>6</title>\n<path fill=\"#47e539\" stroke=\"black\" d=\"M398,-298.5C398,-298.5 297,-298.5 297,-298.5 291,-298.5 285,-292.5 285,-286.5 285,-286.5 285,-242.5 285,-242.5 285,-236.5 291,-230.5 297,-230.5 297,-230.5 398,-230.5 398,-230.5 404,-230.5 410,-236.5 410,-242.5 410,-242.5 410,-286.5 410,-286.5 410,-292.5 404,-298.5 398,-298.5\"/>\n<text text-anchor=\"start\" x=\"319.5\" y=\"-283.3\" font-family=\"Helvetica,sans-Serif\" font-size=\"14.00\">gini = 0.0</text>\n<text text-anchor=\"start\" x=\"310\" y=\"-268.3\" font-family=\"Helvetica,sans-Serif\" font-size=\"14.00\">samples = 2</text>\n<text text-anchor=\"start\" x=\"293\" y=\"-253.3\" font-family=\"Helvetica,sans-Serif\" font-size=\"14.00\">value = [0, 2, 0, 0]</text>\n<text text-anchor=\"start\" x=\"305\" y=\"-238.3\" font-family=\"Helvetica,sans-Serif\" font-size=\"14.00\">class = lemon</text>\n</g>\n<!-- 0&#45;&gt;6 -->\n<g id=\"edge6\" class=\"edge\">\n<title>0&#45;&gt;6</title>\n<path fill=\"none\" stroke=\"black\" d=\"M300.48,-341.91C307.34,-330.76 314.79,-318.66 321.69,-307.44\"/>\n<polygon fill=\"black\" stroke=\"black\" points=\"324.83,-309.02 327.09,-298.67 318.87,-305.35 324.83,-309.02\"/>\n<text text-anchor=\"middle\" x=\"332.88\" y=\"-319.29\" font-family=\"Helvetica,sans-Serif\" font-size=\"14.00\">False</text>\n</g>\n<!-- 2 -->\n<g id=\"node3\" class=\"node\">\n<title>2</title>\n<path fill=\"#eb9cf2\" stroke=\"black\" d=\"M184,-187C184,-187 83,-187 83,-187 77,-187 71,-181 71,-175 71,-175 71,-116 71,-116 71,-110 77,-104 83,-104 83,-104 184,-104 184,-104 190,-104 196,-110 196,-116 196,-116 196,-175 196,-175 196,-181 190,-187 184,-187\"/>\n<text text-anchor=\"start\" x=\"97\" y=\"-171.8\" font-family=\"Helvetica,sans-Serif\" font-size=\"14.00\">width ≤ 6.45</text>\n<text text-anchor=\"start\" x=\"98\" y=\"-156.8\" font-family=\"Helvetica,sans-Serif\" font-size=\"14.00\">gini = 0.444</text>\n<text text-anchor=\"start\" x=\"96\" y=\"-141.8\" font-family=\"Helvetica,sans-Serif\" font-size=\"14.00\">samples = 3</text>\n<text text-anchor=\"start\" x=\"79\" y=\"-126.8\" font-family=\"Helvetica,sans-Serif\" font-size=\"14.00\">value = [0, 0, 1, 2]</text>\n<text text-anchor=\"start\" x=\"89\" y=\"-111.8\" font-family=\"Helvetica,sans-Serif\" font-size=\"14.00\">class = orange</text>\n</g>\n<!-- 1&#45;&gt;2 -->\n<g id=\"edge2\" class=\"edge\">\n<title>1&#45;&gt;2</title>\n<path fill=\"none\" stroke=\"black\" d=\"M179.87,-222.91C174.53,-214.1 168.82,-204.7 163.3,-195.61\"/>\n<polygon fill=\"black\" stroke=\"black\" points=\"166.27,-193.75 158.09,-187.02 160.29,-197.39 166.27,-193.75\"/>\n</g>\n<!-- 5 -->\n<g id=\"node6\" class=\"node\">\n<title>5</title>\n<path fill=\"#e58139\" stroke=\"black\" d=\"M327,-179.5C327,-179.5 226,-179.5 226,-179.5 220,-179.5 214,-173.5 214,-167.5 214,-167.5 214,-123.5 214,-123.5 214,-117.5 220,-111.5 226,-111.5 226,-111.5 327,-111.5 327,-111.5 333,-111.5 339,-117.5 339,-123.5 339,-123.5 339,-167.5 339,-167.5 339,-173.5 333,-179.5 327,-179.5\"/>\n<text text-anchor=\"start\" x=\"248.5\" y=\"-164.3\" font-family=\"Helvetica,sans-Serif\" font-size=\"14.00\">gini = 0.0</text>\n<text text-anchor=\"start\" x=\"239\" y=\"-149.3\" font-family=\"Helvetica,sans-Serif\" font-size=\"14.00\">samples = 3</text>\n<text text-anchor=\"start\" x=\"222\" y=\"-134.3\" font-family=\"Helvetica,sans-Serif\" font-size=\"14.00\">value = [3, 0, 0, 0]</text>\n<text text-anchor=\"start\" x=\"236.5\" y=\"-119.3\" font-family=\"Helvetica,sans-Serif\" font-size=\"14.00\">class = apple</text>\n</g>\n<!-- 1&#45;&gt;5 -->\n<g id=\"edge5\" class=\"edge\">\n<title>1&#45;&gt;5</title>\n<path fill=\"none\" stroke=\"black\" d=\"M229.48,-222.91C236.34,-211.76 243.79,-199.66 250.69,-188.44\"/>\n<polygon fill=\"black\" stroke=\"black\" points=\"253.83,-190.02 256.09,-179.67 247.87,-186.35 253.83,-190.02\"/>\n</g>\n<!-- 3 -->\n<g id=\"node4\" class=\"node\">\n<title>3</title>\n<path fill=\"#399de5\" stroke=\"black\" d=\"M113,-68C113,-68 12,-68 12,-68 6,-68 0,-62 0,-56 0,-56 0,-12 0,-12 0,-6 6,0 12,0 12,0 113,0 113,0 119,0 125,-6 125,-12 125,-12 125,-56 125,-56 125,-62 119,-68 113,-68\"/>\n<text text-anchor=\"start\" x=\"34.5\" y=\"-52.8\" font-family=\"Helvetica,sans-Serif\" font-size=\"14.00\">gini = 0.0</text>\n<text text-anchor=\"start\" x=\"25\" y=\"-37.8\" font-family=\"Helvetica,sans-Serif\" font-size=\"14.00\">samples = 1</text>\n<text text-anchor=\"start\" x=\"8\" y=\"-22.8\" font-family=\"Helvetica,sans-Serif\" font-size=\"14.00\">value = [0, 0, 1, 0]</text>\n<text text-anchor=\"start\" x=\"10.5\" y=\"-7.8\" font-family=\"Helvetica,sans-Serif\" font-size=\"14.00\">class = mandarin</text>\n</g>\n<!-- 2&#45;&gt;3 -->\n<g id=\"edge3\" class=\"edge\">\n<title>2&#45;&gt;3</title>\n<path fill=\"none\" stroke=\"black\" d=\"M107.06,-103.73C101.38,-94.97 95.38,-85.7 89.67,-76.91\"/>\n<polygon fill=\"black\" stroke=\"black\" points=\"92.47,-74.79 84.09,-68.3 86.6,-78.59 92.47,-74.79\"/>\n</g>\n<!-- 4 -->\n<g id=\"node5\" class=\"node\">\n<title>4</title>\n<path fill=\"#d739e5\" stroke=\"black\" d=\"M256,-68C256,-68 155,-68 155,-68 149,-68 143,-62 143,-56 143,-56 143,-12 143,-12 143,-6 149,0 155,0 155,0 256,0 256,0 262,0 268,-6 268,-12 268,-12 268,-56 268,-56 268,-62 262,-68 256,-68\"/>\n<text text-anchor=\"start\" x=\"177.5\" y=\"-52.8\" font-family=\"Helvetica,sans-Serif\" font-size=\"14.00\">gini = 0.0</text>\n<text text-anchor=\"start\" x=\"168\" y=\"-37.8\" font-family=\"Helvetica,sans-Serif\" font-size=\"14.00\">samples = 2</text>\n<text text-anchor=\"start\" x=\"151\" y=\"-22.8\" font-family=\"Helvetica,sans-Serif\" font-size=\"14.00\">value = [0, 0, 0, 2]</text>\n<text text-anchor=\"start\" x=\"161\" y=\"-7.8\" font-family=\"Helvetica,sans-Serif\" font-size=\"14.00\">class = orange</text>\n</g>\n<!-- 2&#45;&gt;4 -->\n<g id=\"edge4\" class=\"edge\">\n<title>2&#45;&gt;4</title>\n<path fill=\"none\" stroke=\"black\" d=\"M160.31,-103.73C166.07,-94.97 172.16,-85.7 177.95,-76.91\"/>\n<polygon fill=\"black\" stroke=\"black\" points=\"181.03,-78.58 183.6,-68.3 175.19,-74.73 181.03,-78.58\"/>\n</g>\n</g>\n</svg>\n",
            "text/plain": [
              "<graphviz.sources.Source at 0x7d86bc12c430>"
            ]
          },
          "metadata": {},
          "execution_count": 57
        }
      ]
    }
  ]
}